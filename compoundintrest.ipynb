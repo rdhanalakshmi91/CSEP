{
  "nbformat": 4,
  "nbformat_minor": 0,
  "metadata": {
    "colab": {
      "name": "compoundintrest.ipynb",
      "provenance": [],
      "collapsed_sections": []
    },
    "kernelspec": {
      "name": "python3",
      "display_name": "Python 3"
    },
    "language_info": {
      "name": "python"
    }
  },
  "cells": [
    {
      "cell_type": "code",
      "execution_count": 2,
      "metadata": {
        "colab": {
          "base_uri": "https://localhost:8080/"
        },
        "id": "RlJOu9mMCAGW",
        "outputId": "0f87836c-960a-48bb-8288-5edac13c8f9d"
      },
      "outputs": [
        {
          "output_type": "stream",
          "name": "stdout",
          "text": [
            "enter the principle amount:10000\n",
            "enter the interest(in decimal form):2.5\n",
            "enter the number of times interest compounded per year:4\n",
            "enter the time(years):5\n",
            "the comound interest is:164831784.1018726\n"
          ]
        }
      ],
      "source": [
        "def compoundRecursion(p, compounded, d, r, numberOfRecursions):\n",
        "    if numberOfRecursions == 0:\n",
        "        totalDuration = compounded * d\n",
        "    elif numberOfRecursions != 0:\n",
        "        totalDuration = d\n",
        "    if d == 0:\n",
        "        return p\n",
        "    else:\n",
        "        newDuration = totalDuration - 1\n",
        "        amount = p*(1+(r/compounded))\n",
        "        return compoundRecursion(amount, compounded, newDuration, r, 1)\n",
        "principal=int(input(\"enter the principle amount:\"))\n",
        "rate=float(input(\"enter the interest(in decimal form):\"))\n",
        "n=int(input(\"enter the number of times interest compounded per year:\"));\n",
        "time=int(input('enter the time(years):'))\n",
        "CI=compoundRecursion(principal,n,time,rate, 0)-principal;\n",
        "print('the comound interest is:'+str(CI))"
      ]
    }
  ]
}