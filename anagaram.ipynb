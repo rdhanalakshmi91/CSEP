{
  "nbformat": 4,
  "nbformat_minor": 0,
  "metadata": {
    "colab": {
      "name": "anagaram.ipynb",
      "provenance": [],
      "collapsed_sections": []
    },
    "kernelspec": {
      "name": "python3",
      "display_name": "Python 3"
    },
    "language_info": {
      "name": "python"
    }
  },
  "cells": [
    {
      "cell_type": "code",
      "execution_count": 1,
      "metadata": {
        "colab": {
          "base_uri": "https://localhost:8080/"
        },
        "id": "RlJOu9mMCAGW",
        "outputId": "58fb828a-8bb5-467f-e35d-411f13e9df23"
      },
      "outputs": [
        {
          "output_type": "stream",
          "name": "stdout",
          "text": [
            "enter a string:god\n",
            "it is a anagram\n"
          ]
        }
      ],
      "source": [
        "m='dog';\n",
        "toBetested=input('enter a string:');\n",
        "if (sorted(m)==sorted(toBetested)):\n",
        "  print('it is a anagram');\n",
        "else:\n",
        "  print('it is not a anagram');"
      ]
    }
  ]
}